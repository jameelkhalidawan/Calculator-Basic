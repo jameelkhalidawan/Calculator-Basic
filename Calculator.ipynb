{
 "cells": [
  {
   "cell_type": "markdown",
   "id": "9e68b03a",
   "metadata": {},
   "source": [
    "MUHAMMAD JAMEEL KHALID\n",
    "200901082"
   ]
  },
  {
   "cell_type": "code",
   "execution_count": 1,
   "id": "9ea85cd2",
   "metadata": {},
   "outputs": [],
   "source": [
    "import math\n"
   ]
  },
  {
   "cell_type": "code",
   "execution_count": 2,
   "id": "a0f48c2e",
   "metadata": {},
   "outputs": [],
   "source": [
    "def ADDITION():\n",
    "    num1=int (input(\"\\n\\nenter the of value of first number =\"))\n",
    "    num2=int (input(\"enter the of value of second number = \"))\n",
    "    num=num1+num2\n",
    "    print(\"Result = \",num)\n",
    "    "
   ]
  },
  {
   "cell_type": "code",
   "execution_count": 3,
   "id": "1fbc5e28",
   "metadata": {},
   "outputs": [],
   "source": [
    "def SUBTRACTION():\n",
    "    num1=int (input(\"\\n\\nenter the of value of first number = \"))\n",
    "    num2=int (input(\"enter the of value of second number = \"))\n",
    "    num=num1-num2\n",
    "    print(\"Result = \",num)"
   ]
  },
  {
   "cell_type": "code",
   "execution_count": 4,
   "id": "42035d53",
   "metadata": {},
   "outputs": [],
   "source": [
    "def MULTIPLICATION():\n",
    "    num1=int (input(\"\\n\\nenter the of value of first number = \"))\n",
    "    num2=int (input(\"enter the of value of second number = \"))\n",
    "    num=num1*num2\n",
    "    print(\"Result = \",num)"
   ]
  },
  {
   "cell_type": "code",
   "execution_count": 5,
   "id": "2f2b6170",
   "metadata": {},
   "outputs": [],
   "source": [
    "def DIVISION():\n",
    "    num1=int (input(\"\\n\\nenter the of value of first number = \"))\n",
    "    num2=int (input(\"enter the of value of second number = \"))\n",
    "    if (num2==0):\n",
    "        print(\"invalid input deominator should be greater than 0\")\n",
    "    else:\n",
    "        num=num1/num2\n",
    "        print(\"Result = \",num)"
   ]
  },
  {
   "cell_type": "code",
   "execution_count": 6,
   "id": "6f27b23e",
   "metadata": {},
   "outputs": [],
   "source": [
    "def FACTORIAL():\n",
    "    num=int (input (\"\\n\\nenter the number you want to take factorial = \"))\n",
    "    print (\"Result = \",math.factorial(num))\n",
    "    \n",
    "    "
   ]
  },
  {
   "cell_type": "code",
   "execution_count": 7,
   "id": "9d3f0d98",
   "metadata": {},
   "outputs": [],
   "source": [
    "def POWER():\n",
    "    num1=int (input(\"\\n\\nenter the of value of the number you want to take power = \"))\n",
    "    num2=int (input(\"enter the power you want to take = \"))\n",
    "    print(\"Result = \",num1**num2)"
   ]
  },
  {
   "cell_type": "code",
   "execution_count": 8,
   "id": "8fcc6912",
   "metadata": {},
   "outputs": [],
   "source": [
    "def LOG():\n",
    "    num=int (input(\"\\n\\nenter the number you want to take log = \"))\n",
    "    print(\"Result = \",math.log(num,10))\n",
    "    "
   ]
  },
  {
   "cell_type": "code",
   "execution_count": 9,
   "id": "47ceae58",
   "metadata": {},
   "outputs": [],
   "source": [
    "def NATURAL_LOG():\n",
    "    num=int (input(\"\\n\\nenter the number you want to take log = \"))\n",
    "    print(\"Result = \",math.log(num))"
   ]
  },
  {
   "cell_type": "code",
   "execution_count": null,
   "id": "fe205db7",
   "metadata": {},
   "outputs": [],
   "source": []
  },
  {
   "cell_type": "code",
   "execution_count": null,
   "id": "a41af449",
   "metadata": {},
   "outputs": [],
   "source": []
  },
  {
   "cell_type": "code",
   "execution_count": null,
   "id": "b097db8a",
   "metadata": {},
   "outputs": [],
   "source": []
  },
  {
   "cell_type": "code",
   "execution_count": 10,
   "id": "5d0aabed",
   "metadata": {},
   "outputs": [],
   "source": [
    "def calculator_menu():\n",
    "    while True:\n",
    "        print(\"\\n\\nPLEASE INSERT THE FUNCTION YOU WANT TO PERFORM\")\n",
    "        print(\"1)ADDITION\")\n",
    "        print(\"2)SUBTRACTION\")\n",
    "        print(\"3)MULTIPLICATION\")\n",
    "        print(\"4)DIVISION\")\n",
    "        print(\"5)FACTORIAL\")\n",
    "        print(\"6)POWER\")\n",
    "        print(\"7)LOG\")\n",
    "        print(\"8)NATURAL LOG\")\n",
    "        print(\"9)QUIT\")\n",
    "        choice=int (input(\"choose option\"))\n",
    "        if choice==1:\n",
    "            ADDITION()\n",
    "        elif choice==2:\n",
    "            SUBTRACTION()\n",
    "        elif choice==3:\n",
    "            MULTIPLICATION()\n",
    "        elif choice==4:\n",
    "            DIVISION()\n",
    "        elif choice==5:\n",
    "            FACTORIAL()\n",
    "        elif choice==6:\n",
    "            POWER()\n",
    "        elif choice==7:\n",
    "            LOG()\n",
    "        elif choice==8:\n",
    "            NATURAL_LOG()\n",
    "        elif choice==9:\n",
    "            print(\"Thank You\")\n",
    "            break\n",
    "        else:\n",
    "            print(\"Please enter valid option\")\n",
    "    \n",
    "\n"
   ]
  },
  {
   "cell_type": "code",
   "execution_count": 11,
   "id": "175e99b2",
   "metadata": {},
   "outputs": [
    {
     "name": "stdout",
     "output_type": "stream",
     "text": [
      "\n",
      "\n",
      "PLEASE INSERT THE FUNCTION YOU WANT TO PERFORM\n",
      "1)ADDITION\n",
      "2)SUBTRACTION\n",
      "3)MULTIPLICATION\n",
      "4)DIVISION\n",
      "5)FACTORIAL\n",
      "6)POWER\n",
      "7)LOG\n",
      "8)NATURAL LOG\n",
      "9)QUIT\n",
      "choose option\n"
     ]
    },
    {
     "ename": "ValueError",
     "evalue": "invalid literal for int() with base 10: ''",
     "output_type": "error",
     "traceback": [
      "\u001b[1;31m---------------------------------------------------------------------------\u001b[0m",
      "\u001b[1;31mValueError\u001b[0m                                Traceback (most recent call last)",
      "\u001b[1;32m~\\AppData\\Local\\Temp\\ipykernel_18484\\2469881536.py\u001b[0m in \u001b[0;36m<module>\u001b[1;34m\u001b[0m\n\u001b[0;32m      1\u001b[0m \u001b[1;32mif\u001b[0m \u001b[0m__name__\u001b[0m\u001b[1;33m==\u001b[0m\u001b[1;34m\"__main__\"\u001b[0m\u001b[1;33m:\u001b[0m\u001b[1;33m\u001b[0m\u001b[1;33m\u001b[0m\u001b[0m\n\u001b[1;32m----> 2\u001b[1;33m     \u001b[0mcalculator_menu\u001b[0m\u001b[1;33m(\u001b[0m\u001b[1;33m)\u001b[0m\u001b[1;33m\u001b[0m\u001b[1;33m\u001b[0m\u001b[0m\n\u001b[0m",
      "\u001b[1;32m~\\AppData\\Local\\Temp\\ipykernel_18484\\1548031193.py\u001b[0m in \u001b[0;36mcalculator_menu\u001b[1;34m()\u001b[0m\n\u001b[0;32m     11\u001b[0m         \u001b[0mprint\u001b[0m\u001b[1;33m(\u001b[0m\u001b[1;34m\"8)NATURAL LOG\"\u001b[0m\u001b[1;33m)\u001b[0m\u001b[1;33m\u001b[0m\u001b[1;33m\u001b[0m\u001b[0m\n\u001b[0;32m     12\u001b[0m         \u001b[0mprint\u001b[0m\u001b[1;33m(\u001b[0m\u001b[1;34m\"9)QUIT\"\u001b[0m\u001b[1;33m)\u001b[0m\u001b[1;33m\u001b[0m\u001b[1;33m\u001b[0m\u001b[0m\n\u001b[1;32m---> 13\u001b[1;33m         \u001b[0mchoice\u001b[0m\u001b[1;33m=\u001b[0m\u001b[0mint\u001b[0m \u001b[1;33m(\u001b[0m\u001b[0minput\u001b[0m\u001b[1;33m(\u001b[0m\u001b[1;34m\"choose option\"\u001b[0m\u001b[1;33m)\u001b[0m\u001b[1;33m)\u001b[0m\u001b[1;33m\u001b[0m\u001b[1;33m\u001b[0m\u001b[0m\n\u001b[0m\u001b[0;32m     14\u001b[0m         \u001b[1;32mif\u001b[0m \u001b[0mchoice\u001b[0m\u001b[1;33m==\u001b[0m\u001b[1;36m1\u001b[0m\u001b[1;33m:\u001b[0m\u001b[1;33m\u001b[0m\u001b[1;33m\u001b[0m\u001b[0m\n\u001b[0;32m     15\u001b[0m             \u001b[0mADDITION\u001b[0m\u001b[1;33m(\u001b[0m\u001b[1;33m)\u001b[0m\u001b[1;33m\u001b[0m\u001b[1;33m\u001b[0m\u001b[0m\n",
      "\u001b[1;31mValueError\u001b[0m: invalid literal for int() with base 10: ''"
     ]
    }
   ],
   "source": [
    "if __name__==\"__main__\":\n",
    "    calculator_menu()"
   ]
  },
  {
   "cell_type": "code",
   "execution_count": null,
   "id": "53d7943f",
   "metadata": {},
   "outputs": [],
   "source": []
  },
  {
   "cell_type": "code",
   "execution_count": null,
   "id": "a2e9a390",
   "metadata": {},
   "outputs": [],
   "source": []
  },
  {
   "cell_type": "code",
   "execution_count": null,
   "id": "389b70a1",
   "metadata": {},
   "outputs": [],
   "source": []
  },
  {
   "cell_type": "code",
   "execution_count": null,
   "id": "243a92df",
   "metadata": {},
   "outputs": [],
   "source": []
  },
  {
   "cell_type": "code",
   "execution_count": null,
   "id": "bc90b325",
   "metadata": {},
   "outputs": [],
   "source": []
  },
  {
   "cell_type": "code",
   "execution_count": null,
   "id": "6a566d57",
   "metadata": {},
   "outputs": [],
   "source": []
  }
 ],
 "metadata": {
  "kernelspec": {
   "display_name": "Python 3 (ipykernel)",
   "language": "python",
   "name": "python3"
  },
  "language_info": {
   "codemirror_mode": {
    "name": "ipython",
    "version": 3
   },
   "file_extension": ".py",
   "mimetype": "text/x-python",
   "name": "python",
   "nbconvert_exporter": "python",
   "pygments_lexer": "ipython3",
   "version": "3.9.13"
  }
 },
 "nbformat": 4,
 "nbformat_minor": 5
}
